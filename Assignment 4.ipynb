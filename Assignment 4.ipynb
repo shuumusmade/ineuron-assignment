{
 "cells": [
  {
   "cell_type": "markdown",
   "id": "4168d0fc",
   "metadata": {},
   "source": [
    "## 1. What exactly is []?\n",
    "\n",
    "1. list are use store tore multiple items in sigle variable\n",
    "2. It is one of the 4 data type to store the data"
   ]
  },
  {
   "cell_type": "markdown",
   "id": "7ac28398",
   "metadata": {},
   "source": [
    "##  2. In a list of values stored in a variable called spam, how would you assign the value &#39;hello&#39; as the third value? (Assume [2, 4, 6, 8, 10] are in spam.)"
   ]
  },
  {
   "cell_type": "code",
   "execution_count": 1,
   "id": "8658c340",
   "metadata": {},
   "outputs": [],
   "source": [
    "spam = [2,4,6,8,10]"
   ]
  },
  {
   "cell_type": "code",
   "execution_count": 2,
   "id": "6f22be66",
   "metadata": {},
   "outputs": [],
   "source": [
    "spam.insert(2,'hello')"
   ]
  },
  {
   "cell_type": "code",
   "execution_count": 3,
   "id": "30eca759",
   "metadata": {},
   "outputs": [
    {
     "data": {
      "text/plain": [
       "[2, 4, 'hello', 6, 8, 10]"
      ]
     },
     "execution_count": 3,
     "metadata": {},
     "output_type": "execute_result"
    }
   ],
   "source": [
    "spam"
   ]
  },
  {
   "cell_type": "markdown",
   "id": "9f91718e",
   "metadata": {},
   "source": [
    "## Let&#39;s pretend the spam includes the list [&#39;a&#39;, &#39;b&#39;, &#39;c&#39;, &#39;d&#39;] for the next three queries."
   ]
  },
  {
   "cell_type": "markdown",
   "id": "15c8f431",
   "metadata": {},
   "source": [
    "3. What is the value of spam[int(int(&#39;3&#39; * 2) / 11)]?"
   ]
  },
  {
   "cell_type": "code",
   "execution_count": 4,
   "id": "32fa9389",
   "metadata": {},
   "outputs": [
    {
     "data": {
      "text/plain": [
       "6"
      ]
     },
     "execution_count": 4,
     "metadata": {},
     "output_type": "execute_result"
    }
   ],
   "source": [
    "## 3. What is the value of spam[int(int(&#39;3&#39; * 2) / 11)]?\n",
    "spam[int(int('3' * 2) / 11)]"
   ]
  },
  {
   "cell_type": "code",
   "execution_count": 6,
   "id": "ed78579e",
   "metadata": {},
   "outputs": [
    {
     "data": {
      "text/plain": [
       "'d'"
      ]
     },
     "execution_count": 6,
     "metadata": {},
     "output_type": "execute_result"
    }
   ],
   "source": [
    "##  4. What is the value of spam[-1]?\n",
    "spam = ['a', 'b', 'c', 'd']\n",
    "spam[-1]"
   ]
  },
  {
   "cell_type": "code",
   "execution_count": 7,
   "id": "efc75fd6",
   "metadata": {},
   "outputs": [
    {
     "data": {
      "text/plain": [
       "['a', 'b']"
      ]
     },
     "execution_count": 7,
     "metadata": {},
     "output_type": "execute_result"
    }
   ],
   "source": [
    "## 5. What is the value of spam[:2]?\n",
    "spam = ['a', 'b', 'c', 'd']\n",
    "spam [:2]"
   ]
  },
  {
   "cell_type": "markdown",
   "id": "5a1d230a",
   "metadata": {},
   "source": [
    "## Let&#39;s pretend bacon has the list [3.14, &#39;cat,&#39; 11, &#39;cat,&#39; True] for the next three questions."
   ]
  },
  {
   "cell_type": "code",
   "execution_count": 9,
   "id": "12595b99",
   "metadata": {},
   "outputs": [],
   "source": [
    "bacon = [3.14,'cat',11,'cat',True]"
   ]
  },
  {
   "cell_type": "code",
   "execution_count": 10,
   "id": "da18a4f6",
   "metadata": {},
   "outputs": [
    {
     "data": {
      "text/plain": [
       "1"
      ]
     },
     "execution_count": 10,
     "metadata": {},
     "output_type": "execute_result"
    }
   ],
   "source": [
    "## 6. What is the value of bacon.index ('cat')?\n",
    "bacon.index('cat')"
   ]
  },
  {
   "cell_type": "code",
   "execution_count": 11,
   "id": "8267405d",
   "metadata": {},
   "outputs": [],
   "source": [
    "## 7. How does bacon.append(99) change the look of the list value in bacon?\n",
    "\n",
    "bacon.append(99)"
   ]
  },
  {
   "cell_type": "code",
   "execution_count": 12,
   "id": "5400580f",
   "metadata": {},
   "outputs": [
    {
     "data": {
      "text/plain": [
       "[3.14, 'cat', 11, 'cat', True, 99]"
      ]
     },
     "execution_count": 12,
     "metadata": {},
     "output_type": "execute_result"
    }
   ],
   "source": [
    "bacon"
   ]
  },
  {
   "cell_type": "code",
   "execution_count": 13,
   "id": "d3f208d1",
   "metadata": {},
   "outputs": [
    {
     "name": "stdout",
     "output_type": "stream",
     "text": [
      "[3.14, 11, 'cat', True, 99]\n"
     ]
    }
   ],
   "source": [
    "## 8. How does bacon.remove(&#39;cat&#39;) change the look of the list in bacon?\n",
    "bacon.remove('cat')\n",
    "print(bacon)"
   ]
  },
  {
   "cell_type": "code",
   "execution_count": null,
   "id": "e0102bdd",
   "metadata": {},
   "outputs": [],
   "source": [
    "## 9. What are the list concatenation and list replication operators?\n",
    " ANS\n",
    "# for list concatenation the operator is +\n",
    "# for list replication the operator is *"
   ]
  },
  {
   "cell_type": "code",
   "execution_count": 15,
   "id": "67304448",
   "metadata": {},
   "outputs": [],
   "source": [
    "## 10. What is difference between the list methods append() and insert()?\n",
    "\n",
    "ANS= Diff between list method append() and method insert()\n",
    "\n",
    "method append() add the data at the end of list.\n",
    "method insert() add the data at perticular position in list that we mention\n"
   ]
  },
  {
   "cell_type": "code",
   "execution_count": null,
   "id": "51bf557e",
   "metadata": {},
   "outputs": [],
   "source": [
    "## 11. What are the two methods for removing items from a list?\n",
    "\n",
    "ANS\n",
    "1. list.remove() remove a specific item\n",
    "2. list.pop() remove a item at specific index\n"
   ]
  },
  {
   "cell_type": "code",
   "execution_count": null,
   "id": "41222a49",
   "metadata": {},
   "outputs": [],
   "source": [
    "## 12. Describe how list values and string values are identical.\n",
    "\n",
    "ANS=\n",
    "#  Element of list can be a diff type, whereas string is one type that is str\n",
    "#  list is mutable whareas string is imutable \n",
    "\n"
   ]
  },
  {
   "cell_type": "code",
   "execution_count": null,
   "id": "d09bb6cb",
   "metadata": {},
   "outputs": [],
   "source": [
    "## 13. What&#39;s the difference between tuples and lists?\n",
    "ANS=\n",
    "\n",
    "Tuple - 1. tuple are immutable, \n",
    "        2. tuple written in this bracket()\n",
    "    \n",
    "list -  1. list are mutable,\n",
    "        2. list written in  this bracket[]"
   ]
  },
  {
   "cell_type": "code",
   "execution_count": 23,
   "id": "47be2f74",
   "metadata": {},
   "outputs": [],
   "source": [
    "## 14. How do you type a tuple value that only contains the integer 42?\n",
    "t=(42,)"
   ]
  },
  {
   "cell_type": "code",
   "execution_count": 25,
   "id": "d6c17420",
   "metadata": {},
   "outputs": [
    {
     "data": {
      "text/plain": [
       "tuple"
      ]
     },
     "execution_count": 25,
     "metadata": {},
     "output_type": "execute_result"
    }
   ],
   "source": [
    "type(t)"
   ]
  },
  {
   "cell_type": "code",
   "execution_count": null,
   "id": "444b7d07",
   "metadata": {},
   "outputs": [],
   "source": [
    "#   15. How do you get a list value's tuple form? \n",
    "#   How do you get a tuple value's list form?\n",
    "\n",
    "ANS = By using list() and tuple() methods"
   ]
  },
  {
   "cell_type": "code",
   "execution_count": null,
   "id": "f14b074b",
   "metadata": {},
   "outputs": [],
   "source": [
    "# 16. Variables that 'contain' list values are not necessarily lists themselves.\n",
    "#     Instead, what do they contain?\n",
    "ANS=\n",
    "   it contains references to the list values rather than list values themselves."
   ]
  },
  {
   "cell_type": "code",
   "execution_count": null,
   "id": "c37a5eaa",
   "metadata": {},
   "outputs": [],
   "source": [
    "# 17. How do you distinguish between copy.copy() and copy.deepcopy()?\n",
    "ANS = The copy.copy() function will do a shallow copy of a list,\n",
    "      while the copy.deepcopy() function will do a deep copy of a list.\n",
    "    That is, only copy.deepcopy() will duplicate any lists inside the list\n",
    "        \n",
    "  "
   ]
  },
  {
   "cell_type": "code",
   "execution_count": null,
   "id": "92fc4551",
   "metadata": {},
   "outputs": [],
   "source": []
  },
  {
   "cell_type": "code",
   "execution_count": null,
   "id": "16bb4978",
   "metadata": {},
   "outputs": [],
   "source": []
  }
 ],
 "metadata": {
  "kernelspec": {
   "display_name": "Python 3 (ipykernel)",
   "language": "python",
   "name": "python3"
  },
  "language_info": {
   "codemirror_mode": {
    "name": "ipython",
    "version": 3
   },
   "file_extension": ".py",
   "mimetype": "text/x-python",
   "name": "python",
   "nbconvert_exporter": "python",
   "pygments_lexer": "ipython3",
   "version": "3.9.7"
  }
 },
 "nbformat": 4,
 "nbformat_minor": 5
}
