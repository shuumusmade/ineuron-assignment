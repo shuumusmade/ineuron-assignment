{
 "cells": [
  {
   "cell_type": "raw",
   "id": "2e8b00d5",
   "metadata": {},
   "source": [
    "# 1. In the below elements which of them are values or an expression? eg:- values can be integer or string and expressions will be mathematical operators.\n",
    "\n",
    "ANS\n",
    "*  = operator\n",
    "'hello' =  string\n",
    "-87.8 = integer\n",
    "- = operator\n",
    "/ = operator\n",
    "+\t= operator\n",
    "6 = integer\n"
   ]
  },
  {
   "cell_type": "raw",
   "id": "2caa202f",
   "metadata": {},
   "source": [
    "2. What is the difference between string and variable? \n",
    "ANS = Variables helps to hold the data and \n",
    "string is itself a data type\n"
   ]
  },
  {
   "cell_type": "raw",
   "id": "01435cb8",
   "metadata": {},
   "source": [
    "3. Describe three different data types.\n",
    "ANS = Integers, string , set\n",
    "\n",
    "int = int data ttype use to represent number values.\n",
    "string= str data type use to represent characters \n",
    "set = set data type use to represent to hold  unique element\n"
   ]
  },
  {
   "cell_type": "raw",
   "id": "7e5a169b",
   "metadata": {},
   "source": [
    "4. What is an expression made up of? What do all expressions do?\n",
    "ANS= expression are combination of variables and operators and numbers or anything assign to a statement is a expression\n",
    "Expressions can do various operation like  addition,substraction, multiplication, in str we can do concanate operation\n"
   ]
  },
  {
   "cell_type": "raw",
   "id": "5daef61d",
   "metadata": {},
   "source": [
    "5. This assignment statements, like spam = 10. What is the difference between an expression and a statement?\n",
    "ANS=\n",
    "Expression is combination of variable,values and operators\n",
    "staement is when we execute prompt it does what is in statement \n",
    "\n"
   ]
  },
  {
   "cell_type": "raw",
   "id": "51c83da5",
   "metadata": {},
   "source": [
    "#6. After running the following code, what does the variable bacon contain?\n",
    "bacon = 22\n",
    "bacon + 1  \n",
    "print(bacon)\n"
   ]
  },
  {
   "cell_type": "raw",
   "id": "ee2f600c",
   "metadata": {},
   "source": [
    "bacon contains 22"
   ]
  },
  {
   "cell_type": "raw",
   "id": "218a683c",
   "metadata": {},
   "source": [
    "7. What should the values of the following two terms be?\n",
    "ANS = 'spam' + 'spamspam' = spamspamspam\n",
    "'spam' * \n",
    "\n"
   ]
  },
  {
   "cell_type": "raw",
   "id": "ca945938",
   "metadata": {},
   "source": [
    "8. Why is eggs a valid variable name while 100 is invalid? \n",
    "ANS = Variables starts with latter, underscore, but can  not start with  number\n"
   ]
  },
  {
   "cell_type": "raw",
   "id": "fcdd2bf5",
   "metadata": {},
   "source": [
    "9. What three functions can be used to get the integer, floating-point number, or string version of a value? \n",
    "ANS=  Int() , float() , and str( ) \n"
   ]
  },
  {
   "cell_type": "raw",
   "id": "b3221dad",
   "metadata": {},
   "source": [
    "10. Why does this expression cause an error? How can you fix it?\n",
    "ANS = 'I have eaten ' + 99 + ' burritos.'  Ans= 99 is not in string , it must be in str(99)"
   ]
  },
  {
   "cell_type": "raw",
   "id": "4a01e360",
   "metadata": {},
   "source": [
    "print('i have eaten ' + str(99) + ' burritos')"
   ]
  }
 ],
 "metadata": {
  "kernelspec": {
   "display_name": "Python 3 (ipykernel)",
   "language": "python",
   "name": "python3"
  },
  "language_info": {
   "codemirror_mode": {
    "name": "ipython",
    "version": 3
   },
   "file_extension": ".py",
   "mimetype": "text/x-python",
   "name": "python",
   "nbconvert_exporter": "python",
   "pygments_lexer": "ipython3",
   "version": "3.9.7"
  }
 },
 "nbformat": 4,
 "nbformat_minor": 5
}
