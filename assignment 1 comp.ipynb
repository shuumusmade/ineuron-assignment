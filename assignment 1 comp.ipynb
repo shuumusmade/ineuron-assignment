{
 "cells": [
  {
   "cell_type": "raw",
   "id": "4f755d1a",
   "metadata": {},
   "source": [
    "# 1. In the below elements which of them are values or an expression? eg:- values can be integer or string and expressions will be mathematical operators.\n",
    "\n",
    "ANS\n",
    "*  = expression\n",
    "'hello' =  string\n",
    "-87.8 = integer\n",
    "- expression\n",
    "/ = expression\n",
    "+\t= expression\n",
    "6 = integer\n"
   ]
  },
  {
   "cell_type": "code",
   "execution_count": null,
   "id": "d3045519",
   "metadata": {},
   "outputs": [],
   "source": [
    "2. What is the difference between string and variable? \n",
    "ANS = Variables helps to hold the data and \n",
    "string is itself a data type\n"
   ]
  },
  {
   "cell_type": "code",
   "execution_count": null,
   "id": "c2a896b4",
   "metadata": {},
   "outputs": [],
   "source": [
    "3. Describe three different data types.\n",
    "ANS = Integers, string , list\n"
   ]
  },
  {
   "cell_type": "code",
   "execution_count": null,
   "id": "2627ff1b",
   "metadata": {},
   "outputs": [],
   "source": [
    "4. What is an expression made up of? What do all expressions do?\n",
    "ANS= expression are combination of variables and operators and numbers or anything assign to a statement is a expression\n",
    "Expressions can do various operation like  addition,substraction, multiplication, in str we can do concanate operation\n"
   ]
  },
  {
   "cell_type": "code",
   "execution_count": null,
   "id": "c4b2e2bf",
   "metadata": {},
   "outputs": [],
   "source": [
    "5. This assignment statements, like spam = 10. What is the difference between an expression and a statement?\n",
    "ANS=\n",
    "Expression is 10 and statement is spam\n"
   ]
  },
  {
   "cell_type": "code",
   "execution_count": null,
   "id": "7baff376",
   "metadata": {},
   "outputs": [],
   "source": [
    "6. After running the following code, what does the variable bacon contain?\n",
    "bacon = 22\n",
    "bacon + 1   ANS=      bacon contain 23\n"
   ]
  },
  {
   "cell_type": "code",
   "execution_count": null,
   "id": "4f5abbcc",
   "metadata": {},
   "outputs": [],
   "source": [
    "7. What should the values of the following two terms be?\n",
    "ANS = 'spam' + 'spamspam' = spamspamspam\n",
    "'spam' * \n",
    "\n"
   ]
  },
  {
   "cell_type": "code",
   "execution_count": null,
   "id": "793d4561",
   "metadata": {},
   "outputs": [],
   "source": [
    "8. Why is eggs a valid variable name while 100 is invalid? \n",
    "ANS = Variables starts with latter, underscore, but can  not start with  number\n"
   ]
  },
  {
   "cell_type": "code",
   "execution_count": null,
   "id": "2c33e8fd",
   "metadata": {},
   "outputs": [],
   "source": [
    "9. What three functions can be used to get the integer, floating-point number, or string version of a value? \n",
    "ANS=  Int() , float() , and str( ) \n"
   ]
  },
  {
   "cell_type": "code",
   "execution_count": null,
   "id": "9e4bcae0",
   "metadata": {},
   "outputs": [],
   "source": [
    "10. Why does this expression cause an error? How can you fix it?\n",
    "ANS = 'I have eaten ' + 99 + ' burritos.'  Ans= 99 is not in between single inverted coma like this ‘99’\n"
   ]
  },
  {
   "cell_type": "code",
   "execution_count": null,
   "id": "e9662bda",
   "metadata": {},
   "outputs": [],
   "source": []
  },
  {
   "cell_type": "code",
   "execution_count": null,
   "id": "b078c0fa",
   "metadata": {},
   "outputs": [],
   "source": []
  }
 ],
 "metadata": {
  "kernelspec": {
   "display_name": "Python 3 (ipykernel)",
   "language": "python",
   "name": "python3"
  },
  "language_info": {
   "codemirror_mode": {
    "name": "ipython",
    "version": 3
   },
   "file_extension": ".py",
   "mimetype": "text/x-python",
   "name": "python",
   "nbconvert_exporter": "python",
   "pygments_lexer": "ipython3",
   "version": "3.9.7"
  }
 },
 "nbformat": 4,
 "nbformat_minor": 5
}
